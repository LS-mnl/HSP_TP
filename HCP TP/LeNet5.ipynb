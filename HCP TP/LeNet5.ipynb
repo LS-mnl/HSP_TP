{
  "cells": [
    {
      "cell_type": "code",
      "execution_count": 2,
      "id": "a490f7a0-cb6d-4048-87e6-3fa66ee45232",
      "metadata": {
        "id": "a490f7a0-cb6d-4048-87e6-3fa66ee45232"
      },
      "outputs": [],
      "source": [
        "import tensorflow as tf\n",
        "from tensorflow import keras\n",
        "import numpy as np\n",
        "from matplotlib import pyplot\n",
        "from keras.models import model_from_json\n"
      ]
    },
    {
      "cell_type": "code",
      "execution_count": 19,
      "id": "93d3031b-4533-4aec-a39f-02e28c2e70a7",
      "metadata": {
        "colab": {
          "base_uri": "https://localhost:8080/"
        },
        "id": "93d3031b-4533-4aec-a39f-02e28c2e70a7",
        "outputId": "975a5d42-3da8-4051-88ae-19c36203ff23"
      },
      "outputs": [
        {
          "output_type": "execute_result",
          "data": {
            "text/plain": [
              "(60000, 28, 28)"
            ]
          },
          "metadata": {},
          "execution_count": 19
        }
      ],
      "source": [
        "(train_x, train_y), (test_x, test_y) = keras.datasets.mnist.load_data()\n",
        "train_x = train_x / 255.0\n",
        "test_x = test_x / 255.0\n",
        "train_x.shape"
      ]
    },
    {
      "cell_type": "code",
      "execution_count": 4,
      "id": "f25fabb6-19d5-49a4-9598-085544a8aab2",
      "metadata": {
        "colab": {
          "base_uri": "https://localhost:8080/"
        },
        "id": "f25fabb6-19d5-49a4-9598-085544a8aab2",
        "outputId": "0a32cc86-9a30-47af-a00c-27e0b099ba55"
      },
      "outputs": [
        {
          "output_type": "execute_result",
          "data": {
            "text/plain": [
              "TensorShape([60000, 28, 28, 1])"
            ]
          },
          "metadata": {},
          "execution_count": 4
        }
      ],
      "source": [
        "train_x = tf.expand_dims(train_x, 3)\n",
        "test_x = tf.expand_dims(test_x, 3)\n",
        "val_x = train_x[:5000]\n",
        "val_y = train_y[:5000]\n",
        "train_x.shape"
      ]
    },
    {
      "cell_type": "code",
      "execution_count": 5,
      "id": "932346b8-8227-448e-aa93-8912ca971962",
      "metadata": {
        "id": "932346b8-8227-448e-aa93-8912ca971962"
      },
      "outputs": [],
      "source": [
        "lenet_5_model = keras.models.Sequential([\n",
        "    keras.layers.Conv2D(6, kernel_size=5, strides=1,  activation='tanh', input_shape=train_x[0].shape, padding='same'), #C1\n",
        "    keras.layers.AveragePooling2D(), #S2\n",
        "    keras.layers.Conv2D(16, kernel_size=5, strides=1, activation='tanh', padding='valid'), #C3\n",
        "    keras.layers.AveragePooling2D(), #S4\n",
        "    keras.layers.Flatten(), #Flatten\n",
        "    keras.layers.Dense(120, activation='tanh'), #C5\n",
        "    keras.layers.Dense(84, activation='tanh'), #F6\n",
        "    keras.layers.Dense(10, activation='softmax') #Output layer\n",
        "])"
      ]
    },
    {
      "cell_type": "code",
      "execution_count": 6,
      "id": "0f9c7fb0-964d-4279-8347-1533097d7c66",
      "metadata": {
        "id": "0f9c7fb0-964d-4279-8347-1533097d7c66"
      },
      "outputs": [],
      "source": [
        "lenet_5_model.compile(optimizer='adam',loss=keras.losses.sparse_categorical_crossentropy, metrics=['accuracy'])"
      ]
    },
    {
      "cell_type": "code",
      "execution_count": 7,
      "id": "c1dadc66-075f-4398-9849-4dc87647163f",
      "metadata": {
        "colab": {
          "base_uri": "https://localhost:8080/"
        },
        "id": "c1dadc66-075f-4398-9849-4dc87647163f",
        "outputId": "861f098f-c421-48b3-8106-1a552e6b6389"
      },
      "outputs": [
        {
          "output_type": "stream",
          "name": "stdout",
          "text": [
            "Epoch 1/5\n",
            "1875/1875 [==============================] - 34s 17ms/step - loss: 0.2342 - accuracy: 0.9299 - val_loss: 0.0952 - val_accuracy: 0.9726\n",
            "Epoch 2/5\n",
            "1875/1875 [==============================] - 34s 18ms/step - loss: 0.0897 - accuracy: 0.9730 - val_loss: 0.0549 - val_accuracy: 0.9854\n",
            "Epoch 3/5\n",
            "1875/1875 [==============================] - 34s 18ms/step - loss: 0.0618 - accuracy: 0.9809 - val_loss: 0.0434 - val_accuracy: 0.9894\n",
            "Epoch 4/5\n",
            "1875/1875 [==============================] - 32s 17ms/step - loss: 0.0455 - accuracy: 0.9856 - val_loss: 0.0337 - val_accuracy: 0.9896\n",
            "Epoch 5/5\n",
            "1875/1875 [==============================] - 35s 18ms/step - loss: 0.0364 - accuracy: 0.9887 - val_loss: 0.0234 - val_accuracy: 0.9928\n"
          ]
        },
        {
          "output_type": "execute_result",
          "data": {
            "text/plain": [
              "<keras.src.callbacks.History at 0x7ebfcdfa5b10>"
            ]
          },
          "metadata": {},
          "execution_count": 7
        }
      ],
      "source": [
        "lenet_5_model.fit(train_x, train_y, epochs=5, validation_data=(val_x, val_y))"
      ]
    },
    {
      "cell_type": "code",
      "execution_count": 8,
      "id": "b9886896-43dc-4831-a595-7f040928b87f",
      "metadata": {
        "colab": {
          "base_uri": "https://localhost:8080/"
        },
        "id": "b9886896-43dc-4831-a595-7f040928b87f",
        "outputId": "85e792ac-9135-4f14-b747-ad45d1f11da8"
      },
      "outputs": [
        {
          "output_type": "stream",
          "name": "stdout",
          "text": [
            "313/313 [==============================] - 3s 11ms/step - loss: 0.0518 - accuracy: 0.9838\n"
          ]
        },
        {
          "output_type": "execute_result",
          "data": {
            "text/plain": [
              "[0.051839958876371384, 0.9837999939918518]"
            ]
          },
          "metadata": {},
          "execution_count": 8
        }
      ],
      "source": [
        "lenet_5_model.evaluate(test_x, test_y)"
      ]
    },
    {
      "cell_type": "code",
      "execution_count": 9,
      "id": "e6e8ca62-f863-4e73-acac-25cd7c8d91f9",
      "metadata": {
        "colab": {
          "base_uri": "https://localhost:8080/",
          "height": 482
        },
        "id": "e6e8ca62-f863-4e73-acac-25cd7c8d91f9",
        "outputId": "7d1cacfb-f8aa-424f-9df2-83ff73ca287f"
      },
      "outputs": [
        {
          "output_type": "display_data",
          "data": {
            "text/plain": [
              "<Figure size 640x480 with 1 Axes>"
            ],
            "image/png": "[encoded data removed]"
          },
          "metadata": {}
        },
        {
          "output_type": "display_data",
          "data": {
            "text/plain": [
              "<Figure size 640x480 with 1 Axes>"
            ],
            "image/png": "[encoded data removed]"
          },
          "metadata": {}
        },
        {
          "output_type": "display_data",
          "data": {
            "text/plain": [
              "<Figure size 640x480 with 1 Axes>"
            ],
            "image/png": "[encoded data removed]"
          },
          "metadata": {}
        }
      ],
      "source": [
        "for i in range(3):\n",
        "    pyplot.subplot(330 + 1 + i)\n",
        "    pyplot.imshow(train_x[i], cmap=pyplot.get_cmap('gray'))\n",
        "    pyplot.show()"
      ]
    },
    {
      "cell_type": "code",
      "execution_count": 21,
      "id": "329cc15c-9b02-462d-b4e3-5b9d4c765bd8",
      "metadata": {
        "colab": {
          "base_uri": "https://localhost:8080/"
        },
        "id": "329cc15c-9b02-462d-b4e3-5b9d4c765bd8",
        "outputId": "a092aebb-4cea-4573-9011-b28e9ab7a766"
      },
      "outputs": [
        {
          "output_type": "stream",
          "name": "stdout",
          "text": [
            "['keras_metadata.pb', 'fingerprint.pb', 'variables', 'assets', 'saved_model.pb']\n"
          ]
        }
      ],
      "source": [
        "import os\n",
        "lenet_5_model.save('lenet_5_model')\n",
        "print(os.listdir('lenet_5_model'))"
      ]
    },
    {
      "cell_type": "code",
      "execution_count": 13,
      "id": "d883f56b-b134-4d81-aedb-1a0213cf2e5a",
      "metadata": {
        "colab": {
          "base_uri": "https://localhost:8080/"
        },
        "id": "d883f56b-b134-4d81-aedb-1a0213cf2e5a",
        "outputId": "501e1b46-eb02-4ec3-cd11-c044308397c4"
      },
      "outputs": [
        {
          "output_type": "stream",
          "name": "stderr",
          "text": [
            "/usr/local/lib/python3.10/dist-packages/keras/src/engine/training.py:3103: UserWarning: You are saving your model as an HDF5 file via `model.save()`. This file format is considered legacy. We recommend using instead the native Keras format, e.g. `model.save('my_model.keras')`.\n",
            "  saving_api.save_model(\n"
          ]
        }
      ],
      "source": [
        "lenet_5_model.save(\"my.h5\")"
      ]
    },
    {
      "cell_type": "code",
      "execution_count": 14,
      "id": "e4039b16-8b65-4686-8e77-d8933555c2b1",
      "metadata": {
        "colab": {
          "base_uri": "https://localhost:8080/"
        },
        "id": "e4039b16-8b65-4686-8e77-d8933555c2b1",
        "outputId": "5c4c171d-f0ed-42e3-fb03-5feb6919eaff"
      },
      "outputs": [
        {
          "output_type": "stream",
          "name": "stdout",
          "text": [
            "Model: \"sequential\"\n",
            "_________________________________________________________________\n",
            " Layer (type)                Output Shape              Param #   \n",
            "=================================================================\n",
            " conv2d (Conv2D)             (None, 28, 28, 6)         156       \n",
            "                                                                 \n",
            " average_pooling2d (Average  (None, 14, 14, 6)         0         \n",
            " Pooling2D)                                                      \n",
            "                                                                 \n",
            " conv2d_1 (Conv2D)           (None, 10, 10, 16)        2416      \n",
            "                                                                 \n",
            " average_pooling2d_1 (Avera  (None, 5, 5, 16)          0         \n",
            " gePooling2D)                                                    \n",
            "                                                                 \n",
            " flatten (Flatten)           (None, 400)               0         \n",
            "                                                                 \n",
            " dense (Dense)               (None, 120)               48120     \n",
            "                                                                 \n",
            " dense_1 (Dense)             (None, 84)                10164     \n",
            "                                                                 \n",
            " dense_2 (Dense)             (None, 10)                850       \n",
            "                                                                 \n",
            "=================================================================\n",
            "Total params: 61706 (241.04 KB)\n",
            "Trainable params: 61706 (241.04 KB)\n",
            "Non-trainable params: 0 (0.00 Byte)\n",
            "_________________________________________________________________\n"
          ]
        }
      ],
      "source": [
        "lenet_5_model.summary()"
      ]
    },
    {
      "cell_type": "code",
      "execution_count": 15,
      "id": "24d1a878-c7a2-4688-9dca-35ab8c5edd2c",
      "metadata": {
        "id": "24d1a878-c7a2-4688-9dca-35ab8c5edd2c"
      },
      "outputs": [],
      "source": [
        "json_model = lenet_5_model.to_json()"
      ]
    },
    {
      "cell_type": "code",
      "execution_count": 16,
      "id": "c3a3b789-e537-4677-931e-6688b2786be7",
      "metadata": {
        "id": "c3a3b789-e537-4677-931e-6688b2786be7"
      },
      "outputs": [],
      "source": [
        "with open('fashionmnist_model.json', 'w') as json_file:\n",
        "    json_file.write(json_model)"
      ]
    },
    {
      "cell_type": "code",
      "execution_count": 17,
      "id": "14bd5eec-4991-4eed-ac6e-4d6d126a167d",
      "metadata": {
        "id": "14bd5eec-4991-4eed-ac6e-4d6d126a167d"
      },
      "outputs": [],
      "source": [
        "lenet_5_model.save_weights('FashionMNIST_weights.h5')"
      ]
    },
    {
      "cell_type": "code",
      "execution_count": 18,
      "id": "929aed57-808a-4df6-a9f7-ce9eec9d4ba1",
      "metadata": {
        "colab": {
          "base_uri": "https://localhost:8080/"
        },
        "id": "929aed57-808a-4df6-a9f7-ce9eec9d4ba1",
        "outputId": "3e115ab1-19db-47bc-ce2a-bbb94539201b"
      },
      "outputs": [
        {
          "output_type": "execute_result",
          "data": {
            "text/plain": [
              "array([[[[ 0.36603782,  0.03872602,  0.08944488,  0.04840619,\n",
              "          -0.05264271, -0.35263923]],\n",
              "\n",
              "        [[ 0.38163552, -0.48243693,  0.19180249,  0.28024992,\n",
              "           0.04685313, -0.03009077]],\n",
              "\n",
              "        [[ 0.10235526, -0.21885628, -0.17486706,  0.40003538,\n",
              "           0.11851145, -0.08626744]],\n",
              "\n",
              "        [[ 0.14283888, -0.13559237, -0.1908313 ,  0.06587894,\n",
              "           0.2997493 , -0.35779378]],\n",
              "\n",
              "        [[ 0.33819553,  0.02804587, -0.06444795,  0.35933396,\n",
              "          -0.01716539, -0.31925383]]],\n",
              "\n",
              "\n",
              "       [[[ 0.28358006, -0.3663302 ,  0.03452369,  0.0224407 ,\n",
              "          -0.0585041 , -0.1040931 ]],\n",
              "\n",
              "        [[ 0.07283171, -0.5952971 ,  0.05672828,  0.24971724,\n",
              "           0.07202347, -0.09035774]],\n",
              "\n",
              "        [[ 0.20268975, -0.41778618, -0.06583329,  0.30556342,\n",
              "           0.09602951,  0.01161923]],\n",
              "\n",
              "        [[ 0.21312821, -0.06151321, -0.55790454, -0.06449449,\n",
              "           0.3326493 , -0.01702857]],\n",
              "\n",
              "        [[ 0.00091669,  0.17763244, -0.5232404 , -0.00992475,\n",
              "           0.44980028, -0.29513186]]],\n",
              "\n",
              "\n",
              "       [[[-0.09928449, -0.27081195, -0.02551289,  0.21463767,\n",
              "           0.13746709,  0.20199811]],\n",
              "\n",
              "        [[-0.29838115, -0.14627574,  0.00330736, -0.01130522,\n",
              "           0.11218718,  0.47067907]],\n",
              "\n",
              "        [[-0.12424821, -0.1916302 , -0.105714  , -0.1522843 ,\n",
              "           0.39413583,  0.22593929]],\n",
              "\n",
              "        [[-0.05866153,  0.07288107, -0.27009082, -0.28652245,\n",
              "           0.5558943 ,  0.17307891]],\n",
              "\n",
              "        [[-0.06744578,  0.21045221, -0.36588806, -0.3470659 ,\n",
              "           0.41292053, -0.1515976 ]]],\n",
              "\n",
              "\n",
              "       [[[-0.49913532, -0.14958014,  0.04126095, -0.080364  ,\n",
              "          -0.0484043 ,  0.31125692]],\n",
              "\n",
              "        [[-0.463949  , -0.0251998 ,  0.23005728, -0.05759208,\n",
              "          -0.07134861,  0.54187125]],\n",
              "\n",
              "        [[-0.51439404,  0.12155692,  0.14374197, -0.33531395,\n",
              "           0.38622117,  0.4952404 ]],\n",
              "\n",
              "        [[-0.21210182,  0.08372449,  0.08348691, -0.5783911 ,\n",
              "           0.50817925,  0.11800119]],\n",
              "\n",
              "        [[-0.1176759 ,  0.15660572,  0.03012102, -0.48325828,\n",
              "           0.12587146,  0.00783687]]],\n",
              "\n",
              "\n",
              "       [[[-0.5147231 ,  0.33708748,  0.28062943,  0.06581544,\n",
              "          -0.25006992, -0.08708908]],\n",
              "\n",
              "        [[-0.17644241,  0.17811173,  0.39059493,  0.1755408 ,\n",
              "           0.03653266,  0.04942755]],\n",
              "\n",
              "        [[-0.3012484 ,  0.33337903,  0.02061458, -0.0969874 ,\n",
              "           0.144669  , -0.0281179 ]],\n",
              "\n",
              "        [[ 0.09061784,  0.3004486 ,  0.2937483 ,  0.03685465,\n",
              "           0.16822213, -0.13899782]],\n",
              "\n",
              "        [[ 0.2233679 ,  0.14993565,  0.1165179 , -0.03120126,\n",
              "           0.05566596,  0.04346408]]]], dtype=float32)"
            ]
          },
          "metadata": {},
          "execution_count": 18
        }
      ],
      "source": [
        "lenet_5_model.layers[0].get_weights()[0]"
      ]
    }
  ],
  "metadata": {
    "kernelspec": {
      "display_name": "gpu",
      "language": "python",
      "name": "gpu_env"
    },
    "language_info": {
      "codemirror_mode": {
        "name": "ipython",
        "version": 3
      },
      "file_extension": ".py",
      "mimetype": "text/x-python",
      "name": "python",
      "nbconvert_exporter": "python",
      "pygments_lexer": "ipython3",
      "version": "3.7.11"
    },
    "colab": {
      "provenance": []
    }
  },
  "nbformat": 4,
  "nbformat_minor": 5
}